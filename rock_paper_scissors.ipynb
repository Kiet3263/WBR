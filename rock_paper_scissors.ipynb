{
  "nbformat": 4,
  "nbformat_minor": 0,
  "metadata": {
    "colab": {
      "provenance": [],
      "authorship_tag": "ABX9TyOaqE3+crcQh0quh0e3v7Zt",
      "include_colab_link": true
    },
    "kernelspec": {
      "name": "python3",
      "display_name": "Python 3"
    },
    "language_info": {
      "name": "python"
    }
  },
  "cells": [
    {
      "cell_type": "markdown",
      "metadata": {
        "id": "view-in-github",
        "colab_type": "text"
      },
      "source": [
        "<a href=\"https://colab.research.google.com/github/Kiet3263/WBR/blob/main/rock_paper_scissors.ipynb\" target=\"_parent\"><img src=\"https://colab.research.google.com/assets/colab-badge.svg\" alt=\"Open In Colab\"/></a>"
      ]
    },
    {
      "cell_type": "code",
      "execution_count": null,
      "metadata": {
        "id": "8QcAwJvy5y2I"
      },
      "outputs": [],
      "source": [
        "import random\n",
        "\n",
        "def get_computer_choice():\n",
        "    return random.choice(['paper', 'rock', 'scissors'])\n",
        "\n",
        "def get_winner(player_choice, computer_choice):\n",
        "    if player_choice == computer_choice:\n",
        "        return None\n",
        "    elif (player_choice == 'rock' and computer_choice == 'scissors') or \\\n",
        "         (player_choice == 'scissors' and computer_choice == 'paper') or \\\n",
        "         (player_choice == 'paper' and computer_choice == 'rock'):\n",
        "        return 'player'\n",
        "    else:\n",
        "        return 'computer'\n",
        "\n",
        "def play_game():\n",
        "    player_name = input(\"Please enter your name: \")\n",
        "    player_score = 0\n",
        "    computer_score = 0\n",
        "    rounds = 5\n",
        "\n",
        "    for _ in range(rounds):\n",
        "        player_choice = input(\"Choose rock, paper, or scissors: \").lower()\n",
        "        while player_choice not in ['rock', 'paper', 'scissors']:\n",
        "            print(\"Invalid choice. Please check your spellings.\")\n",
        "            player_choice = input(\"Choose rock, paper, or scissors: \").lower()\n",
        "        computer_choice = get_computer_choice()\n",
        "        print(f\"The computer chose: {computer_choice}\")\n",
        "\n",
        "        winner = get_winner(player_choice, computer_choice)\n",
        "        if winner == 'player':\n",
        "            player_score += 1\n",
        "            print(f\"{player_name} won this round!\")\n",
        "        elif winner == 'computer':\n",
        "            computer_score += 1\n",
        "            print(\"The computer won this round!\")\n",
        "        else:\n",
        "            print(\"It's a tie\")\n",
        "\n",
        "    print(f\"Final results: {player_name}: {player_score}, Computer: {computer_score}\")\n",
        "    if player_score > computer_score:\n",
        "        print(f\"{player_name} won!\")\n",
        "    elif player_score < computer_score:\n",
        "        print(\"The computer won!\")\n",
        "    else:\n",
        "        print(\"It's a tie match\")\n",
        "\n",
        "play_game()"
      ]
    }
  ]
}